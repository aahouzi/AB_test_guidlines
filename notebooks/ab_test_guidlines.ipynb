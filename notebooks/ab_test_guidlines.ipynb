{
  "nbformat": 4,
  "nbformat_minor": 0,
  "metadata": {
    "colab": {
      "name": "ab_test_guidlines.ipynb",
      "provenance": []
    },
    "kernelspec": {
      "name": "python3",
      "display_name": "Python 3"
    },
    "language_info": {
      "name": "python"
    }
  },
  "cells": [
    {
      "cell_type": "markdown",
      "source": [
        "## 1. What is an A/B test ?"
      ],
      "metadata": {
        "id": "e28wPJB4_HuQ"
      }
    },
    {
      "cell_type": "markdown",
      "source": [
        "- The goal of running an **A/B test** is to evaluate if a change in a website or a product will lead to an improved performance in a certain metric.\n",
        "\n",
        "- <u>Examples:</u>\n",
        "\n",
        "1.   Changing the look of a single button on a web page or testing different layouts and headlines.\n",
        "2.   Changing a multi-step process, which may have different steps involved in signing up a new user or processing the sale on an online marketplace.\n",
        "\n",
        "\n",
        "\n"
      ],
      "metadata": {
        "id": "HAghOy1sAlqG"
      }
    },
    {
      "cell_type": "markdown",
      "source": [
        "## 2. Setting up the experiment and basic metrics of an A/B test:"
      ],
      "metadata": {
        "id": "riVcwIQr64FG"
      }
    },
    {
      "cell_type": "markdown",
      "source": [
        "- Let's suppose we are running an **A/B test** for  a hypothetical company that's trying to **increase the amount of users** that sign up for **a prenium account**. Let's first define some metrics that we are going to use all along the experiment:\n",
        "\n",
        "- **<u>Baseline conversion rate (bcr):</u>** It's the current rate at which we sign up new users under the existing design.\n",
        "- **<u>Lift/Desired lift:</u>** It's the increase/desired increase in sign ups that we would like to test.\n"
      ],
      "metadata": {
        "id": "HuldRfqY7hu_"
      }
    },
    {
      "cell_type": "markdown",
      "source": [
        "## 3. Control group (A) and test group (B):"
      ],
      "metadata": {
        "id": "q4BJKWnV_HJ_"
      }
    },
    {
      "cell_type": "markdown",
      "source": [
        "- The total number of users that participate in an A/B test **make up a small percentage of the total amount of users**. Users are randomly selected and assigned to either **a control group (A)** that contains the default design, or **a test group (B)** containing the new design we wanna test. **The sample size** that you decide on will determine how long you'll have to wait until you have collected enough data.\n",
        "\n",
        "- For the project, we are going to use a **randomly generated dataset**, containing the results of an A/B test over two different designs of a web page. First, we are going to take **a bcr of 12%**, and then choose **a desired lift of 2%** in order to adopt the new web page design."
      ],
      "metadata": {
        "id": "Rkk59CnUCWI-"
      }
    },
    {
      "cell_type": "code",
      "source": [
        "import pandas as pd\n",
        "import seaborn as sns\n",
        "import matplotlib.pyplot as plt\n",
        "import scipy.stats as scs\n",
        "import numpy as np\n",
        "import scipy.integrate as integrate\n",
        "import math"
      ],
      "metadata": {
        "id": "i2yq0yjKNulu"
      },
      "execution_count": null,
      "outputs": []
    },
    {
      "cell_type": "code",
      "source": [
        "num_a = 1000\n",
        "num_b = 1000\n",
        "bcr = 0.12\n",
        "d_lift = 0.02"
      ],
      "metadata": {
        "id": "mNwTjaE268g9"
      },
      "execution_count": null,
      "outputs": []
    },
    {
      "cell_type": "code",
      "source": [
        "def generate_data(num_a, num_b, p_a, p_b):\n",
        "    data = []\n",
        "    N = num_a + num_b\n",
        "\n",
        "    # Initialize Bernouilli distributions\n",
        "    group_bern = scs.bernoulli(num_a / N)\n",
        "    A_bern = scs.bernoulli(p_a)\n",
        "    B_bern = scs.bernoulli(p_b)\n",
        "\n",
        "    for idx in range(N):\n",
        "        row = {}\n",
        "        row['group'] = group_bern.rvs()\n",
        "        if row['group'] == 0:\n",
        "            row['converted'] = A_bern.rvs()\n",
        "        else:\n",
        "            row['converted'] = B_bern.rvs()\n",
        "        data.append(row)\n",
        "\n",
        "    df = pd.DataFrame(data)\n",
        "    df['group'] = df['group'].apply(lambda x: \"control\" if x == 0 else \"treatment\")\n",
        "\n",
        "    return df"
      ],
      "metadata": {
        "id": "NcBuHN3l5vP1"
      },
      "execution_count": null,
      "outputs": []
    },
    {
      "cell_type": "code",
      "source": [
        "df = generate_data(num_a, num_b, bcr, bcr+d_lift)\n",
        "df.head()"
      ],
      "metadata": {
        "id": "3oYgU80BxEP7",
        "colab": {
          "base_uri": "https://localhost:8080/",
          "height": 206
        },
        "outputId": "a778e037-b029-4052-a828-cb314db6bfa2"
      },
      "execution_count": null,
      "outputs": [
        {
          "output_type": "execute_result",
          "data": {
            "text/plain": [
              "       group  converted\n",
              "0  treatment          0\n",
              "1  treatment          0\n",
              "2  treatment          0\n",
              "3    control          0\n",
              "4    control          1"
            ],
            "text/html": [
              "\n",
              "  <div id=\"df-f7adf369-dc88-4063-a17a-3731a21bca3b\">\n",
              "    <div class=\"colab-df-container\">\n",
              "      <div>\n",
              "<style scoped>\n",
              "    .dataframe tbody tr th:only-of-type {\n",
              "        vertical-align: middle;\n",
              "    }\n",
              "\n",
              "    .dataframe tbody tr th {\n",
              "        vertical-align: top;\n",
              "    }\n",
              "\n",
              "    .dataframe thead th {\n",
              "        text-align: right;\n",
              "    }\n",
              "</style>\n",
              "<table border=\"1\" class=\"dataframe\">\n",
              "  <thead>\n",
              "    <tr style=\"text-align: right;\">\n",
              "      <th></th>\n",
              "      <th>group</th>\n",
              "      <th>converted</th>\n",
              "    </tr>\n",
              "  </thead>\n",
              "  <tbody>\n",
              "    <tr>\n",
              "      <th>0</th>\n",
              "      <td>treatment</td>\n",
              "      <td>0</td>\n",
              "    </tr>\n",
              "    <tr>\n",
              "      <th>1</th>\n",
              "      <td>treatment</td>\n",
              "      <td>0</td>\n",
              "    </tr>\n",
              "    <tr>\n",
              "      <th>2</th>\n",
              "      <td>treatment</td>\n",
              "      <td>0</td>\n",
              "    </tr>\n",
              "    <tr>\n",
              "      <th>3</th>\n",
              "      <td>control</td>\n",
              "      <td>0</td>\n",
              "    </tr>\n",
              "    <tr>\n",
              "      <th>4</th>\n",
              "      <td>control</td>\n",
              "      <td>1</td>\n",
              "    </tr>\n",
              "  </tbody>\n",
              "</table>\n",
              "</div>\n",
              "      <button class=\"colab-df-convert\" onclick=\"convertToInteractive('df-f7adf369-dc88-4063-a17a-3731a21bca3b')\"\n",
              "              title=\"Convert this dataframe to an interactive table.\"\n",
              "              style=\"display:none;\">\n",
              "        \n",
              "  <svg xmlns=\"http://www.w3.org/2000/svg\" height=\"24px\"viewBox=\"0 0 24 24\"\n",
              "       width=\"24px\">\n",
              "    <path d=\"M0 0h24v24H0V0z\" fill=\"none\"/>\n",
              "    <path d=\"M18.56 5.44l.94 2.06.94-2.06 2.06-.94-2.06-.94-.94-2.06-.94 2.06-2.06.94zm-11 1L8.5 8.5l.94-2.06 2.06-.94-2.06-.94L8.5 2.5l-.94 2.06-2.06.94zm10 10l.94 2.06.94-2.06 2.06-.94-2.06-.94-.94-2.06-.94 2.06-2.06.94z\"/><path d=\"M17.41 7.96l-1.37-1.37c-.4-.4-.92-.59-1.43-.59-.52 0-1.04.2-1.43.59L10.3 9.45l-7.72 7.72c-.78.78-.78 2.05 0 2.83L4 21.41c.39.39.9.59 1.41.59.51 0 1.02-.2 1.41-.59l7.78-7.78 2.81-2.81c.8-.78.8-2.07 0-2.86zM5.41 20L4 18.59l7.72-7.72 1.47 1.35L5.41 20z\"/>\n",
              "  </svg>\n",
              "      </button>\n",
              "      \n",
              "  <style>\n",
              "    .colab-df-container {\n",
              "      display:flex;\n",
              "      flex-wrap:wrap;\n",
              "      gap: 12px;\n",
              "    }\n",
              "\n",
              "    .colab-df-convert {\n",
              "      background-color: #E8F0FE;\n",
              "      border: none;\n",
              "      border-radius: 50%;\n",
              "      cursor: pointer;\n",
              "      display: none;\n",
              "      fill: #1967D2;\n",
              "      height: 32px;\n",
              "      padding: 0 0 0 0;\n",
              "      width: 32px;\n",
              "    }\n",
              "\n",
              "    .colab-df-convert:hover {\n",
              "      background-color: #E2EBFA;\n",
              "      box-shadow: 0px 1px 2px rgba(60, 64, 67, 0.3), 0px 1px 3px 1px rgba(60, 64, 67, 0.15);\n",
              "      fill: #174EA6;\n",
              "    }\n",
              "\n",
              "    [theme=dark] .colab-df-convert {\n",
              "      background-color: #3B4455;\n",
              "      fill: #D2E3FC;\n",
              "    }\n",
              "\n",
              "    [theme=dark] .colab-df-convert:hover {\n",
              "      background-color: #434B5C;\n",
              "      box-shadow: 0px 1px 3px 1px rgba(0, 0, 0, 0.15);\n",
              "      filter: drop-shadow(0px 1px 2px rgba(0, 0, 0, 0.3));\n",
              "      fill: #FFFFFF;\n",
              "    }\n",
              "  </style>\n",
              "\n",
              "      <script>\n",
              "        const buttonEl =\n",
              "          document.querySelector('#df-f7adf369-dc88-4063-a17a-3731a21bca3b button.colab-df-convert');\n",
              "        buttonEl.style.display =\n",
              "          google.colab.kernel.accessAllowed ? 'block' : 'none';\n",
              "\n",
              "        async function convertToInteractive(key) {\n",
              "          const element = document.querySelector('#df-f7adf369-dc88-4063-a17a-3731a21bca3b');\n",
              "          const dataTable =\n",
              "            await google.colab.kernel.invokeFunction('convertToInteractive',\n",
              "                                                     [key], {});\n",
              "          if (!dataTable) return;\n",
              "\n",
              "          const docLinkHtml = 'Like what you see? Visit the ' +\n",
              "            '<a target=\"_blank\" href=https://colab.research.google.com/notebooks/data_table.ipynb>data table notebook</a>'\n",
              "            + ' to learn more about interactive tables.';\n",
              "          element.innerHTML = '';\n",
              "          dataTable['output_type'] = 'display_data';\n",
              "          await google.colab.output.renderOutput(dataTable, element);\n",
              "          const docLink = document.createElement('div');\n",
              "          docLink.innerHTML = docLinkHtml;\n",
              "          element.appendChild(docLink);\n",
              "        }\n",
              "      </script>\n",
              "    </div>\n",
              "  </div>\n",
              "  "
            ]
          },
          "metadata": {},
          "execution_count": 11
        }
      ]
    },
    {
      "cell_type": "code",
      "source": [
        "df_summary = df.pivot_table(values='converted', index='group', aggfunc=np.sum)\n",
        "df_summary['total'] = df.pivot_table(values='converted', index='group', aggfunc=lambda x: len(x))\n",
        "df_summary['rate'] = df.pivot_table(values='converted', index='group')\n",
        "df_summary"
      ],
      "metadata": {
        "colab": {
          "base_uri": "https://localhost:8080/",
          "height": 143
        },
        "id": "fNBHrPI1HZB3",
        "outputId": "967cbd49-ca25-44f0-e598-1b4d795d0bbe"
      },
      "execution_count": null,
      "outputs": [
        {
          "output_type": "execute_result",
          "data": {
            "text/plain": [
              "           converted  total      rate\n",
              "group                                \n",
              "control          117    975  0.120000\n",
              "treatment        138   1025  0.134634"
            ],
            "text/html": [
              "\n",
              "  <div id=\"df-9404f825-d316-4b68-844b-87d9ddc800cf\">\n",
              "    <div class=\"colab-df-container\">\n",
              "      <div>\n",
              "<style scoped>\n",
              "    .dataframe tbody tr th:only-of-type {\n",
              "        vertical-align: middle;\n",
              "    }\n",
              "\n",
              "    .dataframe tbody tr th {\n",
              "        vertical-align: top;\n",
              "    }\n",
              "\n",
              "    .dataframe thead th {\n",
              "        text-align: right;\n",
              "    }\n",
              "</style>\n",
              "<table border=\"1\" class=\"dataframe\">\n",
              "  <thead>\n",
              "    <tr style=\"text-align: right;\">\n",
              "      <th></th>\n",
              "      <th>converted</th>\n",
              "      <th>total</th>\n",
              "      <th>rate</th>\n",
              "    </tr>\n",
              "    <tr>\n",
              "      <th>group</th>\n",
              "      <th></th>\n",
              "      <th></th>\n",
              "      <th></th>\n",
              "    </tr>\n",
              "  </thead>\n",
              "  <tbody>\n",
              "    <tr>\n",
              "      <th>control</th>\n",
              "      <td>117</td>\n",
              "      <td>975</td>\n",
              "      <td>0.120000</td>\n",
              "    </tr>\n",
              "    <tr>\n",
              "      <th>treatment</th>\n",
              "      <td>138</td>\n",
              "      <td>1025</td>\n",
              "      <td>0.134634</td>\n",
              "    </tr>\n",
              "  </tbody>\n",
              "</table>\n",
              "</div>\n",
              "      <button class=\"colab-df-convert\" onclick=\"convertToInteractive('df-9404f825-d316-4b68-844b-87d9ddc800cf')\"\n",
              "              title=\"Convert this dataframe to an interactive table.\"\n",
              "              style=\"display:none;\">\n",
              "        \n",
              "  <svg xmlns=\"http://www.w3.org/2000/svg\" height=\"24px\"viewBox=\"0 0 24 24\"\n",
              "       width=\"24px\">\n",
              "    <path d=\"M0 0h24v24H0V0z\" fill=\"none\"/>\n",
              "    <path d=\"M18.56 5.44l.94 2.06.94-2.06 2.06-.94-2.06-.94-.94-2.06-.94 2.06-2.06.94zm-11 1L8.5 8.5l.94-2.06 2.06-.94-2.06-.94L8.5 2.5l-.94 2.06-2.06.94zm10 10l.94 2.06.94-2.06 2.06-.94-2.06-.94-.94-2.06-.94 2.06-2.06.94z\"/><path d=\"M17.41 7.96l-1.37-1.37c-.4-.4-.92-.59-1.43-.59-.52 0-1.04.2-1.43.59L10.3 9.45l-7.72 7.72c-.78.78-.78 2.05 0 2.83L4 21.41c.39.39.9.59 1.41.59.51 0 1.02-.2 1.41-.59l7.78-7.78 2.81-2.81c.8-.78.8-2.07 0-2.86zM5.41 20L4 18.59l7.72-7.72 1.47 1.35L5.41 20z\"/>\n",
              "  </svg>\n",
              "      </button>\n",
              "      \n",
              "  <style>\n",
              "    .colab-df-container {\n",
              "      display:flex;\n",
              "      flex-wrap:wrap;\n",
              "      gap: 12px;\n",
              "    }\n",
              "\n",
              "    .colab-df-convert {\n",
              "      background-color: #E8F0FE;\n",
              "      border: none;\n",
              "      border-radius: 50%;\n",
              "      cursor: pointer;\n",
              "      display: none;\n",
              "      fill: #1967D2;\n",
              "      height: 32px;\n",
              "      padding: 0 0 0 0;\n",
              "      width: 32px;\n",
              "    }\n",
              "\n",
              "    .colab-df-convert:hover {\n",
              "      background-color: #E2EBFA;\n",
              "      box-shadow: 0px 1px 2px rgba(60, 64, 67, 0.3), 0px 1px 3px 1px rgba(60, 64, 67, 0.15);\n",
              "      fill: #174EA6;\n",
              "    }\n",
              "\n",
              "    [theme=dark] .colab-df-convert {\n",
              "      background-color: #3B4455;\n",
              "      fill: #D2E3FC;\n",
              "    }\n",
              "\n",
              "    [theme=dark] .colab-df-convert:hover {\n",
              "      background-color: #434B5C;\n",
              "      box-shadow: 0px 1px 3px 1px rgba(0, 0, 0, 0.15);\n",
              "      filter: drop-shadow(0px 1px 2px rgba(0, 0, 0, 0.3));\n",
              "      fill: #FFFFFF;\n",
              "    }\n",
              "  </style>\n",
              "\n",
              "      <script>\n",
              "        const buttonEl =\n",
              "          document.querySelector('#df-9404f825-d316-4b68-844b-87d9ddc800cf button.colab-df-convert');\n",
              "        buttonEl.style.display =\n",
              "          google.colab.kernel.accessAllowed ? 'block' : 'none';\n",
              "\n",
              "        async function convertToInteractive(key) {\n",
              "          const element = document.querySelector('#df-9404f825-d316-4b68-844b-87d9ddc800cf');\n",
              "          const dataTable =\n",
              "            await google.colab.kernel.invokeFunction('convertToInteractive',\n",
              "                                                     [key], {});\n",
              "          if (!dataTable) return;\n",
              "\n",
              "          const docLinkHtml = 'Like what you see? Visit the ' +\n",
              "            '<a target=\"_blank\" href=https://colab.research.google.com/notebooks/data_table.ipynb>data table notebook</a>'\n",
              "            + ' to learn more about interactive tables.';\n",
              "          element.innerHTML = '';\n",
              "          dataTable['output_type'] = 'display_data';\n",
              "          await google.colab.output.renderOutput(dataTable, element);\n",
              "          const docLink = document.createElement('div');\n",
              "          docLink.innerHTML = docLinkHtml;\n",
              "          element.appendChild(docLink);\n",
              "        }\n",
              "      </script>\n",
              "    </div>\n",
              "  </div>\n",
              "  "
            ]
          },
          "metadata": {},
          "execution_count": 12
        }
      ]
    },
    {
      "cell_type": "code",
      "source": [
        "a_converted = df_summary.loc['control']['converted']\n",
        "b_converted = df_summary.loc['treatment']['converted']\n",
        "a_total = df_summary.loc['control']['total']\n",
        "b_total = df_summary.loc['treatment']['total']\n",
        "p_a = df_summary.loc['control']['rate']\n",
        "p_b = df_summary.loc['treatment']['rate']"
      ],
      "metadata": {
        "id": "KYhOXDingVnb"
      },
      "execution_count": null,
      "outputs": []
    },
    {
      "cell_type": "markdown",
      "source": [
        "## 4. Compare control and test groups:"
      ],
      "metadata": {
        "id": "Ut8K2NyLjKSJ"
      }
    },
    {
      "cell_type": "markdown",
      "source": [
        "- If we take the control or test group, we can notice that the **converted column** is just a series of independant **Bernouilli experiences** with a probability of success equal to the conversion rate of the group. If we take the control group, we'll have the statistical measures of this distribution as follows:\n",
        "\n",
        "$$\n",
        "\\boxed{\n",
        "  \\ \\ \\ \\ \\ \\ \\mathop{\\mathbb{E}}(X) = p \\\\\n",
        "  \\mathop{\\mathbb{V}}(X) = p(1 - p)\n",
        "  }\n",
        "$$\n",
        "\n",
        "- One way to have a visual confirmation about the difference between the control and the treatment group, is to plot both distributions. Since we have a series of bernouilli experiences, we can assume that the distributions follow a binomial distribution.\n"
      ],
      "metadata": {
        "id": "kTtoBX9tZVmL"
      }
    },
    {
      "cell_type": "code",
      "source": [
        "fig, ax = plt.subplots(figsize=(12,6))\n",
        "x = np.linspace(a_converted-49, a_converted+50, 100)\n",
        "y = scs.binom(a_total, p_a).pmf(x)\n",
        "ax.bar(x, y, alpha=0.5)\n",
        "plt.xlabel('Number of converted users')\n",
        "plt.ylabel('Probability')"
      ],
      "metadata": {
        "colab": {
          "base_uri": "https://localhost:8080/",
          "height": 406
        },
        "id": "ShY0F5R2CSfp",
        "outputId": "a8d1f978-6aaf-48fa-d95c-409b1a9c9109"
      },
      "execution_count": null,
      "outputs": [
        {
          "output_type": "execute_result",
          "data": {
            "text/plain": [
              "Text(0, 0.5, 'Probability')"
            ]
          },
          "metadata": {},
          "execution_count": 20
        },
        {
          "output_type": "display_data",
          "data": {
            "text/plain": [
              "<Figure size 864x432 with 1 Axes>"
            ],
            "image/png": "[encoded data removed]"
          },
          "metadata": {
            "needs_background": "light"
          }
        }
      ]
    },
    {
      "cell_type": "code",
      "source": [
        "fig, ax = plt.subplots(figsize=(12,6))\n",
        "xA = np.linspace(a_converted-49, a_converted+50, 100)\n",
        "yA = scs.binom(a_total, p_a).pmf(xA)\n",
        "ax.bar(xA, yA, alpha=0.5)\n",
        "xB = np.linspace(b_converted-49, b_converted+50, 100)\n",
        "yB = scs.binom(b_total, p_b).pmf(xB)\n",
        "ax.bar(xB, yB, alpha=0.5)\n",
        "plt.xlabel('Number of converted users')\n",
        "plt.ylabel('Probability')"
      ],
      "metadata": {
        "colab": {
          "base_uri": "https://localhost:8080/",
          "height": 406
        },
        "id": "USJ9_TbJbq4m",
        "outputId": "44306fed-8f14-4590-c8b0-5017d98e3488"
      },
      "execution_count": null,
      "outputs": [
        {
          "output_type": "execute_result",
          "data": {
            "text/plain": [
              "Text(0, 0.5, 'Probability')"
            ]
          },
          "metadata": {},
          "execution_count": 15
        },
        {
          "output_type": "display_data",
          "data": {
            "text/plain": [
              "<Figure size 864x432 with 1 Axes>"
            ],
            "image/png": "[encoded data removed]"
          },
          "metadata": {
            "needs_background": "light"
          }
        }
      ]
    },
    {
      "cell_type": "markdown",
      "source": [
        "- By using **The central limit theorem**, we can approximate the distribution of the sample mean of converted column. If we consider $(X_i)_{1 \\leq i \\leq n}$ the random variables representing whether the user was converted or not, with a probability of success being equal to the conversion rate of the group. Then, we'll have the following:\n",
        "\n",
        "\n",
        "$$\n",
        "\\boxed{\n",
        "  S_{A} = \\frac{X_1 + X_2 + ... + X_{n_A}}{n_A} \\sim \\mathcal{N}(\\mu = p_A, \\sigma = \\frac{\\sqrt{p_A(1 - p_A)}}{\\sqrt{n_A}}) \\\\\n",
        "  S_{B} = \\frac{X_1 + X_2 + ... + X_{n_B}}{n_B} \\sim \\mathcal{N}(\\mu = p_B, \\sigma = \\frac{\\sqrt{p_B(1 - p_B)}}{\\sqrt{n_B}})\n",
        "}\n",
        "$$\n",
        "\n",
        "- Let's plot the distributions of $S_A$ and $S_B$:"
      ],
      "metadata": {
        "id": "bFtRqRGlT19Z"
      }
    },
    {
      "cell_type": "code",
      "source": [
        "# Define the standard deviations for normal distributions Sa and Sb\n",
        "std_a = np.sqrt(p_a * (1-p_a) / a_total)\n",
        "std_b = np.sqrt(p_b * (1-p_b) / b_total)"
      ],
      "metadata": {
        "id": "ET2bAipLS4wc"
      },
      "execution_count": null,
      "outputs": []
    },
    {
      "cell_type": "code",
      "source": [
        "# Plot distributions Sa and Sb\n",
        "fig, ax = plt.subplots(figsize=(12,6))\n",
        "x = np.linspace(0, .2, 1000)\n",
        "yA = scs.norm(p_a, std_a).pdf(x)\n",
        "ax.plot(x, yA)\n",
        "ax.axvline(x=p_a, c='red', alpha=0.5, linestyle='--')\n",
        "yB = scs.norm(p_b, std_b).pdf(x)\n",
        "ax.plot(x, yB)\n",
        "ax.axvline(x=p_b, c='blue', alpha=0.5, linestyle='--')\n",
        "plt.xlabel('Converted Proportion')\n",
        "plt.ylabel('PDF')"
      ],
      "metadata": {
        "colab": {
          "base_uri": "https://localhost:8080/",
          "height": 407
        },
        "id": "vaojqoKgeFKM",
        "outputId": "c8bc785e-86ac-4a72-88ec-5a6dc9b90633"
      },
      "execution_count": null,
      "outputs": [
        {
          "output_type": "execute_result",
          "data": {
            "text/plain": [
              "Text(0, 0.5, 'PDF')"
            ]
          },
          "metadata": {},
          "execution_count": 17
        },
        {
          "output_type": "display_data",
          "data": {
            "text/plain": [
              "<Figure size 864x432 with 1 Axes>"
            ],
            "image/png": "[encoded data removed]"
          },
          "metadata": {
            "needs_background": "light"
          }
        }
      ]
    },
    {
      "cell_type": "markdown",
      "source": [
        "## 4. Minimum sample size required to have statistically significant results:"
      ],
      "metadata": {
        "id": "haY9vjHdtN9N"
      }
    },
    {
      "cell_type": "markdown",
      "source": [
        "- First, let's re-define some statistical metrics used for hypothesis testing, that will help us understand the reason behind calculating a minimum required sample size:\n",
        "\n",
        "\n",
        "\n",
        "1.   **<u>Type I error:</u>** is rejecting the null hypothesis (H0), when it should not be rejected. Type I error rate is also known as **$\\alpha$**, **significance level** or **p-value**. We usually take a value of **0.05**.\n",
        "\n",
        "2.   **<u>Type II error:</u>** is failing to reject the null hypothesis (H0), when it should be rejected. Type II error rate is also known as $\\beta$.\n",
        "\n",
        "2.   **<u>Statistical power:</u>** is rejecting the null hypothesis (H0), when it should be rejected. It's basically $1 - \\beta$, and we usually take a statistical power of **0.8**.\n",
        "\n",
        "- For our **A/B test** to be statistically significant, we need to have enough statistical power (e.g: greater than 0.8), which correlates with sample size used in the experiment for each group (A or B). Many statistical formulas exist to compute this minimum sample size, and we are going to use this one:\n",
        "\n",
        "\n",
        "$$\\boxed{n = \\frac{2\\bar{p}(1 - \\bar{p})(z_{\\beta} - z_{\\alpha / 2})^2}{(p_B - p_A)^2}}$$\n",
        "\n",
        "\n",
        "- **$z_{\\beta}$ :** The z-score that corresponds to parameter $\\beta$.\n",
        "- **$z_{\\alpha / 2}$ :** The z-score that corresponds to the significance level $\\alpha$.\n",
        "- **$p_A, p_B$ :** are respectively the base conversion rate **(bcr)**, and the projected conversion rate, their difference is the desired lift **(d_lift)**.\n",
        "- **$\\bar{p}$ :** The pooled probability or average of $p_A$ and $p_B$. So, it can be expressed using the following formula:\n",
        "\n",
        "$$\\boxed{\\bar{p} = \\frac{p_A + (p_A + d_{lift})}{2}}$$\n",
        "\n",
        "\n",
        "\n",
        "\n",
        "\n"
      ],
      "metadata": {
        "id": "AenoDeDnoaqg"
      }
    },
    {
      "cell_type": "code",
      "source": [
        "def get_min_samples(p_a, p_b, power=0.8, alpha=0.05):\n",
        "  # Define a standard normal distribution\n",
        "  standard_norm = scs.norm(0, 1)\n",
        "\n",
        "  # Compute z-scores\n",
        "  z_beta = standard_norm.ppf(power)\n",
        "  z_alpha = standard_norm.ppf(1-alpha/2)\n",
        "  p_hat = (p_a + p_b) / 2\n",
        "  return 2 * p_hat * (1 - p_hat) * (z_beta - z_alpha)**2 / (p_b - p_a)**2\n",
        "\n",
        "print(\"The minimum number of samples required for the A/B test experiment: {}\".format(int(get_min_samples(bcr, bcr + d_lift))))"
      ],
      "metadata": {
        "colab": {
          "base_uri": "https://localhost:8080/"
        },
        "id": "7GA0L5PzPmVN",
        "outputId": "d6283ce2-63bc-417e-e610-72529cb70ab9"
      },
      "execution_count": null,
      "outputs": [
        {
          "output_type": "stream",
          "name": "stdout",
          "text": [
            "The minimum number of samples required for the A/B test experiment: 707\n"
          ]
        }
      ]
    },
    {
      "cell_type": "markdown",
      "source": [
        "- Here, we can see that the minimum number of samples required should be 707, we are way above this number, so we should be confident about the results we obtain from this experiment."
      ],
      "metadata": {
        "id": "cnbJ4EcJySgm"
      }
    },
    {
      "cell_type": "markdown",
      "source": [
        "## 5. Defining the null hypothesis (H0) and the alternative hypothesis (H1):"
      ],
      "metadata": {
        "id": "A6yoE_x4p4m5"
      }
    },
    {
      "cell_type": "markdown",
      "source": [
        "- First, let's define the random variable $S_D$, which is the difference between $S_A$ and $S_B$:\n",
        "\n",
        "$$\\boxed{S_D = S_B - S_A}$$\n",
        "\n",
        "- We know that the expectation of $S_D$ can be written as:\n",
        "\n",
        "$$\n",
        "  \\mathop{\\mathbb{E}}(S_D) = \\mathop{\\mathbb{E}}(S_B) - \\mathop{\\mathbb{E}}(S_A) \\\\\n",
        "  = p_B - p_A \\\\\n",
        "$$\n",
        "\n",
        "- and the variance of $S_D$ can be written in terms of the standard deviations of Bernouilli distributions of control and test group $s_A$, $s_B$ as: \\\\\n",
        "\n",
        "$$\n",
        "  \\mathop{\\mathbb{V}}(S_D) = \\mathop{\\mathbb{V}}(S_B) + \\mathop{\\mathbb{V}}(S_A) \\\\\n",
        "  = \\frac{p_B(1 - p_B)}{n_B} + \\frac{p_A(1 - p_A)}{n_A} \\\\\n",
        "  = \\frac{s_B^2}{n_B} + \\frac{s_A^2}{n_A}\n",
        "$$\n",
        "\n",
        "\n",
        "$$\n",
        "\\boxed{\n",
        "S_{D} \\sim \\mathcal{N}(\\mu = d, \\sigma = SE)\n",
        "}\n",
        "$$\n",
        "\n",
        "$$\n",
        "where: \\left\\{\n",
        "    \\begin{array}{ll}\n",
        "        d = p_B - p_A \\\\\n",
        "        SE = \\sqrt{\\frac{s_B^2}{n_B} + \\frac{s_A^2}{n_A}}\n",
        "    \\end{array}\n",
        "\\right.\n",
        "$$ \\\\\n",
        "\n",
        "\n",
        "1.   **Null hypothesis (H0):** The null hypothesis states that the change in the design made for the test group **would result in no change in the conversion rate**, meaning that: \\\\\n",
        "\n",
        "$$\n",
        "\\boxed{\n",
        "S_{D} \\sim \\mathcal{N}(\\mu = 0, \\sigma = s_A\\sqrt{\\frac{1}{n_A} + \\frac{1}{n_B}})\n",
        "}\n",
        "$$\n",
        "\n",
        "2.   **Alternative hypothesis (H1):** The alternative hypothesis is the opposing position that states that the change in the design for the test group **would result in an improvement (or reduction) in the conversion rate**, meaning that:\n",
        "\n",
        "$$\n",
        "\\boxed{\n",
        "S_{D} \\sim \\mathcal{N}(\\mu = d, \\sigma = SE)\n",
        "}\n",
        "$$\n",
        "\n",
        "\n",
        "\n",
        "\n",
        "\n",
        "\n",
        "\n"
      ],
      "metadata": {
        "id": "Y8Vqx0MBqEhq"
      }
    },
    {
      "cell_type": "code",
      "source": [
        "# Define mean and std of (H0) and (H1) distributions\n",
        "s_A = np.sqrt(p_a * (1 - p_a))\n",
        "s_B = np.sqrt(p_b * (1 - p_b))\n",
        "mu_h0, mu_h1 = 0, p_b - p_a\n",
        "std_h0 = s_A * np.sqrt(1 / a_total + 1 / b_total)\n",
        "std_h1 = np.sqrt(s_A**2 / a_total + s_B**2 / b_total)"
      ],
      "metadata": {
        "id": "t6NE9KkxqCmZ"
      },
      "execution_count": null,
      "outputs": []
    },
    {
      "cell_type": "markdown",
      "source": [
        "- Let's plot distributions of the null hypothesis (H0) and alternative hypothesis (H1) with confidence intervals of every distribution (we take [-2$\\sigma$, 2$\\sigma$] where we have 95\\% of values of a normal distribution)"
      ],
      "metadata": {
        "id": "u4xz-3PuHdEE"
      }
    },
    {
      "cell_type": "code",
      "source": [
        "fig, ax = plt.subplots(figsize=(12,6))\n",
        "x = np.linspace(-.2, .2, 1000)\n",
        "y_h0 = scs.norm(mu_h0, std_h0).pdf(x)\n",
        "ax.plot(x, y_h0, label=\"Null hypothesis (H0)\")\n",
        "ax.axvline(x=mu_h0 - 2*std_h0, c='grey', alpha=0.5, linestyle='--')\n",
        "ax.axvline(x=mu_h0 + 2*std_h0, c='grey', alpha=0.5, linestyle='--')\n",
        "\n",
        "y_h1 = scs.norm(mu_h1, std_h1).pdf(x)\n",
        "ax.plot(x, y_h1, label=\"Alternative hypothesis (H1)\")\n",
        "ax.axvline(x=mu_h1 - 2*std_h1, c='blue', alpha=0.5, linestyle='--')\n",
        "ax.axvline(x=mu_h1 + 2*std_h1, c='blue', alpha=0.5, linestyle='--')\n",
        "plt.legend()\n",
        "plt.xlabel('$S_D$')\n",
        "plt.ylabel('PDF')"
      ],
      "metadata": {
        "colab": {
          "base_uri": "https://localhost:8080/",
          "height": 410
        },
        "id": "6G-YIVOdBeWO",
        "outputId": "58af9641-c50a-48f8-ea59-513767657d7c"
      },
      "execution_count": null,
      "outputs": [
        {
          "output_type": "execute_result",
          "data": {
            "text/plain": [
              "Text(0, 0.5, 'PDF')"
            ]
          },
          "metadata": {},
          "execution_count": 37
        },
        {
          "output_type": "display_data",
          "data": {
            "text/plain": [
              "<Figure size 864x432 with 1 Axes>"
            ],
            "image/png": "[encoded data removed]"
          },
          "metadata": {
            "needs_background": "light"
          }
        }
      ]
    },
    {
      "cell_type": "markdown",
      "source": [
        "- In order to reject the null hypothesis H0, we need to have **sufficient evidence and confidence** that the change in conversion rate truly comes from the design, and not from another external factor.\n",
        "\n",
        "- For that purpose, we are going to use **the statistical power** we defined above, it shows the probability to reject H0, when it should be rejected. So, in order to say that the new design is the true cause of the change in conversion rate, **we need to have enough statistical power (we usually take 0.8)**.\n",
        "\n",
        "- Now, let's show in the graph above the surface defining a statistical power: we need to be outside the CI of (H0), and inside the CI of (H1)."
      ],
      "metadata": {
        "id": "EDlNurbHGrwq"
      }
    },
    {
      "cell_type": "code",
      "source": [
        "fig, ax = plt.subplots(figsize=(12,6))\n",
        "x = np.linspace(-.2, .2, 1000)\n",
        "y_h0 = scs.norm(mu_h0, std_h0).pdf(x)\n",
        "ax.plot(x, y_h0, label=\"Null hypothesis (H0)\")\n",
        "ax.axvline(x=mu_h0 - 2*std_h0, c='grey', alpha=0.5, linestyle='--')\n",
        "ax.axvline(x=mu_h0 + 2*std_h0, c='grey', alpha=0.5, linestyle='--')\n",
        "\n",
        "y_h1 = scs.norm(mu_h1, std_h1).pdf(x)\n",
        "ax.plot(x, y_h1, label=\"Alternative hypothesis (H1)\")\n",
        "ax.axvline(x=mu_h1 - 2*std_h1, c='blue', alpha=0.5, linestyle='--')\n",
        "ax.axvline(x=mu_h1 + 2*std_h1, c='blue', alpha=0.5, linestyle='--')\n",
        "ax.fill_between(x, 0, scs.norm(mu_h1, std_h1).pdf(x), color='green', where=(x < mu_h1 + 2*std_h1) & (x > mu_h0 + 2*std_h0))\n",
        "plt.legend()\n",
        "plt.xlabel('$S_D$')\n",
        "plt.ylabel('PDF')"
      ],
      "metadata": {
        "colab": {
          "base_uri": "https://localhost:8080/",
          "height": 410
        },
        "id": "yaoouF72CvhB",
        "outputId": "09dbe686-821d-4639-9cbc-3c7744f149af"
      },
      "execution_count": null,
      "outputs": [
        {
          "output_type": "execute_result",
          "data": {
            "text/plain": [
              "Text(0, 0.5, 'PDF')"
            ]
          },
          "metadata": {},
          "execution_count": 45
        },
        {
          "output_type": "display_data",
          "data": {
            "text/plain": [
              "<Figure size 864x432 with 1 Axes>"
            ],
            "image/png": "[encoded data removed]"
          },
          "metadata": {
            "needs_background": "light"
          }
        }
      ]
    },
    {
      "cell_type": "markdown",
      "source": [
        "- We can see that the statistical power is just the integral of **the probability density function (pdf) of hypothesis (H1) between $\\mu_{h0} + 2\\sigma_{h0}$ and $\\mu_{h1} + 2\\sigma_{h1}$**:\n",
        "\n",
        "$$\n",
        "  power = \\int_{\\mu_{h0} + 2\\sigma_{h0}}^{\\mu_{h1} + 2\\sigma_{h1}} p_{h1}(x) \\,dx \\\\\n",
        "$$\n",
        "\n",
        "- and since **(H1) is normally distributed**, we'll have:\n",
        "\n",
        "$$\n",
        "\\boxed{\n",
        "  power = \\int_{\\mu_{h0} + 2\\sigma_{h0}}^{\\mu_{h1} + 2\\sigma_{h1}} \\frac{1}{\\sqrt{2\\pi\\sigma_{h1}^2}} \\exp(\\frac{-(x - \\mu_{h1})^2}{\\sigma_{h1}^2}) \\,dx \\\\\n",
        "  }\n",
        "$$"
      ],
      "metadata": {
        "id": "YmB9Q_kZSZWr"
      }
    },
    {
      "cell_type": "code",
      "source": [
        "# Now, let's compute this statistical power\n",
        "def normal_pdf(x, mean, std):\n",
        "    var = float(std)**2\n",
        "    return math.exp(-(float(x)-float(mean))**2/(2*var)) / np.sqrt(2*math.pi*var)\n",
        "\n",
        "result = integrate.quad(lambda x: normal_pdf(x, mu_h1, std_h1), mu_h0 + 2 * std_h0, mu_h1 + 2 * std_h1)\n",
        "print(\"The statistical power is: {}%\".format(round(100 * result[0], 2)))"
      ],
      "metadata": {
        "colab": {
          "base_uri": "https://localhost:8080/"
        },
        "id": "77rcBejAOvYz",
        "outputId": "e4b2ebc6-5e05-4407-8443-b89f819c58d6"
      },
      "execution_count": null,
      "outputs": [
        {
          "output_type": "stream",
          "name": "stdout",
          "text": [
            "The statistical power is: 14.35%\n"
          ]
        }
      ]
    },
    {
      "cell_type": "markdown",
      "source": [
        "- We showed that the statistical power for our A/B test is **lower than 80%**, meaning that we can not reject (H0).\n",
        "\n",
        "- **Conslusion:** We keep (H0), and we conclude that the change in the web design didn't have a significant effect on the conversion rate."
      ],
      "metadata": {
        "id": "RH-bB5w7dZfR"
      }
    },
    {
      "cell_type": "code",
      "source": [
        ""
      ],
      "metadata": {
        "id": "aWFGrnOOalRa"
      },
      "execution_count": null,
      "outputs": []
    }
  ]
}